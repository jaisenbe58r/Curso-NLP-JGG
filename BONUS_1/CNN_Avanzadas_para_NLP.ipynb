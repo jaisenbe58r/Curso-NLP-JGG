{
  "nbformat": 4,
  "nbformat_minor": 0,
  "metadata": {
    "colab": {
      "name": "CNN Avanzadas para_NLP.ipynb",
      "provenance": [],
      "collapsed_sections": [],
      "toc_visible": true,
      "machine_shape": "hm"
    },
    "kernelspec": {
      "name": "python3",
      "display_name": "Python 3"
    },
    "accelerator": "GPU"
  },
  "cells": [
    {
      "cell_type": "markdown",
      "metadata": {
        "id": "EJ6zhycx-LJa",
        "colab_type": "text"
      },
      "source": [
        "# Fase 1: Importar las dependencias."
      ]
    },
    {
      "cell_type": "markdown",
      "metadata": {
        "id": "6kmwltx1Ew3P",
        "colab_type": "text"
      },
      "source": [
        "Texto original en https://arxiv.org/pdf/1404.2188.pdf"
      ]
    },
    {
      "cell_type": "code",
      "metadata": {
        "id": "NON9giQ1_eZy",
        "colab_type": "code",
        "colab": {}
      },
      "source": [
        "import numpy as np\n",
        "import math\n",
        "import random\n",
        "import re\n",
        "import pandas as pd\n",
        "from bs4 import BeautifulSoup\n",
        "\n",
        "from google.colab import drive"
      ],
      "execution_count": null,
      "outputs": []
    },
    {
      "cell_type": "code",
      "metadata": {
        "id": "nf3eAnCU5Bdi",
        "colab_type": "code",
        "colab": {}
      },
      "source": [
        "try:\n",
        "    %tensorflow_version 2.x\n",
        "except Exception:\n",
        "    pass\n",
        "import tensorflow as tf\n",
        "\n",
        "from tensorflow.keras import layers\n",
        "import tensorflow_datasets as tfds"
      ],
      "execution_count": null,
      "outputs": []
    },
    {
      "cell_type": "markdown",
      "metadata": {
        "id": "WN8EilQG-cwa",
        "colab_type": "text"
      },
      "source": [
        "# Fase 2: Preprocesado de Datos"
      ]
    },
    {
      "cell_type": "markdown",
      "metadata": {
        "id": "52CTV4_q-hpX",
        "colab_type": "text"
      },
      "source": [
        "## Carga de Ficheros"
      ]
    },
    {
      "cell_type": "code",
      "metadata": {
        "id": "solg5Rzx6-oY",
        "colab_type": "code",
        "colab": {
          "base_uri": "https://localhost:8080/",
          "height": 124
        },
        "outputId": "a486126f-9a33-48e4-e955-5f43d75b8b19"
      },
      "source": [
        "drive.mount(\"/content/drive\")"
      ],
      "execution_count": null,
      "outputs": [
        {
          "output_type": "stream",
          "text": [
            "Go to this URL in a browser: https://accounts.google.com/o/oauth2/auth?client_id=947318989803-6bn6qk8qdgf4n4g3pfee6491hc0brc4i.apps.googleusercontent.com&redirect_uri=urn%3aietf%3awg%3aoauth%3a2.0%3aoob&response_type=code&scope=email%20https%3a%2f%2fwww.googleapis.com%2fauth%2fdocs.test%20https%3a%2f%2fwww.googleapis.com%2fauth%2fdrive%20https%3a%2f%2fwww.googleapis.com%2fauth%2fdrive.photos.readonly%20https%3a%2f%2fwww.googleapis.com%2fauth%2fpeopleapi.readonly\n",
            "\n",
            "Enter your authorization code:\n",
            "··········\n",
            "Mounted at /content/drive\n"
          ],
          "name": "stdout"
        }
      ]
    },
    {
      "cell_type": "code",
      "metadata": {
        "id": "vNmFVWRet1fF",
        "colab_type": "code",
        "colab": {}
      },
      "source": [
        "cols = [\"sentiment\", \"id\", \"date\", \"query\", \"user\", \"text\"]\n",
        "data = pd.read_csv(\n",
        "    \"/content/drive/My Drive/Curso de NLP/CNN/data/train.csv\",\n",
        "    header=None,\n",
        "    names=cols,\n",
        "    engine=\"python\",\n",
        "    encoding=\"latin1\"\n",
        ")"
      ],
      "execution_count": null,
      "outputs": []
    },
    {
      "cell_type": "markdown",
      "metadata": {
        "id": "6CsZKJx1-2Ep",
        "colab_type": "text"
      },
      "source": [
        "## Preprocessing"
      ]
    },
    {
      "cell_type": "markdown",
      "metadata": {
        "id": "FLWayJ-5-7nN",
        "colab_type": "text"
      },
      "source": [
        "### Cleaning"
      ]
    },
    {
      "cell_type": "code",
      "metadata": {
        "id": "kLkrdSsvt2LS",
        "colab_type": "code",
        "colab": {}
      },
      "source": [
        "data.drop([\"id\", \"date\", \"query\", \"user\"],\n",
        "          axis=1,\n",
        "          inplace=True)"
      ],
      "execution_count": null,
      "outputs": []
    },
    {
      "cell_type": "code",
      "metadata": {
        "id": "5x_IJGtRuR9D",
        "colab_type": "code",
        "colab": {}
      },
      "source": [
        "def clean_tweet(tweet):\n",
        "    tweet = BeautifulSoup(tweet, \"lxml\").get_text()\n",
        "    # Removing the @\n",
        "    tweet = re.sub(r\"@[A-Za-z0-9]+\", ' ', tweet)\n",
        "    # Removing the URL links\n",
        "    tweet = re.sub(r\"https?://[A-Za-z0-9./]+\", ' ', tweet)\n",
        "    # Keeping only letters\n",
        "    tweet = re.sub(r\"[^a-zA-Z.!?']\", ' ', tweet)\n",
        "    # Removing additional whitespaces\n",
        "    tweet = re.sub(r\" +\", ' ', tweet)\n",
        "    if tweet == ' ':\n",
        "        return ''\n",
        "    if tweet[0] == ' ':\n",
        "        tweet = tweet[1:]\n",
        "    if tweet[-1] == ' ':\n",
        "        tweet = tweet[:-1]\n",
        "    return tweet"
      ],
      "execution_count": null,
      "outputs": []
    },
    {
      "cell_type": "code",
      "metadata": {
        "id": "o5S_IhVCX5V7",
        "colab_type": "code",
        "colab": {}
      },
      "source": [
        "data_clean = [clean_tweet(tweet) for tweet in data.text]\n",
        "\n",
        "data_labels = data.sentiment.values\n",
        "data_labels[data_labels == 4] = 1"
      ],
      "execution_count": null,
      "outputs": []
    },
    {
      "cell_type": "markdown",
      "metadata": {
        "id": "GTKZ5fUh_Kxz",
        "colab_type": "text"
      },
      "source": [
        "### Tokenization"
      ]
    },
    {
      "cell_type": "code",
      "metadata": {
        "id": "iEDkH7rguSRE",
        "colab_type": "code",
        "colab": {}
      },
      "source": [
        "tokenizer = tfds.features.text.SubwordTextEncoder.build_from_corpus(\n",
        "    data_clean, target_vocab_size=2**16\n",
        ")\n",
        "\n",
        "data_inputs = [tokenizer.encode(sentence) for sentence in data_clean]"
      ],
      "execution_count": null,
      "outputs": []
    },
    {
      "cell_type": "code",
      "metadata": {
        "id": "naEWc27sGfHO",
        "colab_type": "code",
        "colab": {}
      },
      "source": [
        "data_with_len = [[sent, data_labels[i], len(sent)]\n",
        "                 for i, sent in enumerate(data_inputs)]\n",
        "random.shuffle(data_with_len)\n",
        "\n",
        "data_with_len.sort(key=lambda x: x[2])\n",
        "sorted_all = [(sent_lab[0], sent_lab[1])\n",
        "              for sent_lab in data_with_len if sent_lab[2] > 2]"
      ],
      "execution_count": null,
      "outputs": []
    },
    {
      "cell_type": "code",
      "metadata": {
        "id": "OcTZSlBcpo8C",
        "colab_type": "code",
        "colab": {
          "base_uri": "https://localhost:8080/",
          "height": 55
        },
        "outputId": "02dc6c6d-a922-42f2-8f9f-a8fda72f2dd6"
      },
      "source": [
        "len(sorted_all)"
      ],
      "execution_count": null,
      "outputs": [
        {
          "output_type": "execute_result",
          "data": {
            "text/plain": [
              "1566799"
            ]
          },
          "metadata": {
            "tags": []
          },
          "execution_count": 165
        }
      ]
    },
    {
      "cell_type": "code",
      "metadata": {
        "id": "SSiLhe_E5su4",
        "colab_type": "code",
        "colab": {}
      },
      "source": [
        "all_dataset = tf.data.Dataset.from_generator(lambda: sorted_all,\n",
        "                                             output_types=(tf.int32, tf.int32))"
      ],
      "execution_count": null,
      "outputs": []
    },
    {
      "cell_type": "code",
      "metadata": {
        "id": "ykdB8B3I6QJN",
        "colab_type": "code",
        "colab": {}
      },
      "source": [
        "BATCH_SIZE = 32\n",
        "all_batched = all_dataset.padded_batch(BATCH_SIZE, padded_shapes=([None,], ())"
      ],
      "execution_count": null,
      "outputs": []
    },
    {
      "cell_type": "code",
      "metadata": {
        "id": "6roT4olT60wL",
        "colab_type": "code",
        "colab": {}
      },
      "source": [
        "NB_BATCHES = len(sorted_all) // BATCH_SIZE\n",
        "NB_BATCHES_TEST = NB_BATCHES // 10\n",
        "all_batched.shuffle(NB_BATCHES)\n",
        "test_dataset = all_batched.take(NB_BATCHES_TEST)\n",
        "train_dataset = all_batched.skip(NB_BATCHES_TEST)"
      ],
      "execution_count": null,
      "outputs": []
    },
    {
      "cell_type": "code",
      "metadata": {
        "id": "1Haj84NipIcL",
        "colab_type": "code",
        "colab": {
          "base_uri": "https://localhost:8080/",
          "height": 55
        },
        "outputId": "941992c9-2efc-45b7-897c-2a9bd5cc72ae"
      },
      "source": [
        "type(train_dataset)"
      ],
      "execution_count": null,
      "outputs": [
        {
          "output_type": "execute_result",
          "data": {
            "text/plain": [
              "tensorflow.python.data.ops.dataset_ops.SkipDataset"
            ]
          },
          "metadata": {
            "tags": []
          },
          "execution_count": 191
        }
      ]
    },
    {
      "cell_type": "markdown",
      "metadata": {
        "id": "kWu6hLDG_UJZ",
        "colab_type": "text"
      },
      "source": [
        "# Paso 3: Construcción del Modelo"
      ]
    },
    {
      "cell_type": "markdown",
      "metadata": {
        "id": "_AWx5bRAFBQx",
        "colab_type": "text"
      },
      "source": [
        "## Capas"
      ]
    },
    {
      "cell_type": "code",
      "metadata": {
        "id": "S_QvDL64_T6z",
        "colab_type": "code",
        "colab": {}
      },
      "source": [
        "# (batches, seq_len, d_model, channels)\n",
        "\n",
        "# Padding para una convolución 2D ampliada\n",
        "class Widening(layers.Layer):\n",
        "    \n",
        "    def __init__(self, padding_size, padding_value=0., axis=1):\n",
        "        super(Widening, self).__init__()\n",
        "        self.padding_size = padding_size\n",
        "        self.padding_value = padding_value\n",
        "        self.axis = axis\n",
        "    \n",
        "    def build(self, input_shape):\n",
        "        paddings_arr = np.array([[0, 0]]*len(input_shape))\n",
        "        paddings_arr[self.axis, :] = [self.padding_size, self.padding_size]\n",
        "        self.paddings = tf.convert_to_tensor(paddings_arr, dtype=\"int32\")\n",
        "    \n",
        "    def call(self, inputs):\n",
        "        return tf.pad(inputs,\n",
        "                      self.paddings,\n",
        "                      constant_values=self.padding_value)\n",
        "\n",
        "class MyConv2D(layers.Layer):\n",
        "\n",
        "    def __init__(self,\n",
        "                 nb_filters, \n",
        "                 conv_width,\n",
        "                 padding, \n",
        "                 emb_dim):\n",
        "        super(MyConv2D, self).__init__()\n",
        "        self.emb_dim = emb_dim\n",
        "        self.conv_per_col = [layers.Conv2D(filters=nb_filters,\n",
        "                                           kernel_size=[conv_width, 1],\n",
        "                                           padding=\"valid\",\n",
        "                                           activation=\"tanh\")\n",
        "                             for _ in range(emb_dim)]\n",
        "\n",
        "    def call(self, inputs):\n",
        "        convolutions = []\n",
        "        for i in range(self.emb_dim):\n",
        "            convolutions.append(self.conv_per_col[i](\n",
        "                tf.expand_dims(inputs[:, :, i, :], axis=-2)))\n",
        "        return tf.concat(convolutions, axis=-2)\n",
        "\n",
        "\n",
        "# k-max pooling\n",
        "class KMaxPooling(layers.Layer):\n",
        "\n",
        "    def __init__(self, ktop=4, L=None, l=None):\n",
        "        super(KMaxPooling, self).__init__()\n",
        "        self.ktop = ktop\n",
        "        self.L = L\n",
        "        self.l = l\n",
        "    \n",
        "    def build(self, input_shape):\n",
        "        s = input_shape[1]\n",
        "        if self.L is None or self.l is None or s is None:\n",
        "            self.k = self.ktop\n",
        "        else:\n",
        "            self.k = max(self.ktop, math.ceil((self.L-self.l)/self.L*s))\n",
        "    \n",
        "\n",
        "    def call(self, inputs):\n",
        "        inputs_trans = tf.transpose(inputs, [0, 3, 2, 1])\n",
        "        inputs_trans_kmax = tf.math.top_k(inputs_trans, self.k).values\n",
        "        inputs_kmax= tf.transpose(inputs_trans_kmax, [0, 3, 2, 1])\n",
        "    \n",
        "        return inputs_kmax\n",
        "        \n",
        "\n",
        "# Folding\n",
        "class Folding(layers.Layer):\n",
        "    \n",
        "    def __init__(self):\n",
        "        super(Folding, self).__init__()\n",
        "        \n",
        "    def call(self, inputs):\n",
        "        folded_inputs = tf.math.add_n(\n",
        "            [inputs[:, :, 0::2, :], inputs[:, :, 1::2, :]]\n",
        "        ) / 2\n",
        "\n",
        "        return folded_inputs\n",
        "        "
      ],
      "execution_count": null,
      "outputs": []
    },
    {
      "cell_type": "markdown",
      "metadata": {
        "id": "1o5uPrKT91m2",
        "colab_type": "text"
      },
      "source": [
        "## Nuestro modelo de RNC"
      ]
    },
    {
      "cell_type": "code",
      "metadata": {
        "id": "fD3nbD_M94Gt",
        "colab_type": "code",
        "colab": {}
      },
      "source": [
        "class DCNN(tf.keras.Model):\n",
        "    \n",
        "    def __init__(self,\n",
        "                 vocab_size,\n",
        "                 emb_dim=48,\n",
        "                 nb_filters_1=6,\n",
        "                 conv_width_1=7,\n",
        "                 ktop_max=4,\n",
        "                 nb_filters_2=14,\n",
        "                 conv_width_2=5,\n",
        "                 fold_patch=2,\n",
        "                 nb_of_layers=2,\n",
        "                 padding_value=0,\n",
        "                 dropout_rate=0.1,\n",
        "                 nb_classes=2,\n",
        "                 name=\"dcnn\",\n",
        "                 **kwargs):\n",
        "        super(DCNN, self).__init__(name=name, **kwargs)\n",
        "\n",
        "        self.embedding = layers.Embedding(vocab_size,\n",
        "                                          emb_dim)        \n",
        "        self.widening_1 = Widening(conv_width_1-1,\n",
        "                                   axis=1)\n",
        "        self.conv_1 = MyConv2D(nb_filters=nb_filters_1,\n",
        "                               conv_width=conv_width_1,\n",
        "                               padding=\"valid\",\n",
        "                               emb_dim=emb_dim)\n",
        "        self.pool_1 = KMaxPooling(ktop_max,\n",
        "                                  nb_of_layers,\n",
        "                                  1)\n",
        "        \n",
        "        self.widening_2 = Widening(conv_width_2-1,\n",
        "                                   axis=1)\n",
        "        self.conv_2 = MyConv2D(nb_filters=nb_filters_2,\n",
        "                               conv_width=conv_width_2,\n",
        "                               padding=\"valid\",\n",
        "                               emb_dim=emb_dim)\n",
        "        #self.fold = Folding(patch_size=fold_patch)\n",
        "        self.fold = Folding()\n",
        "        self.pool_2 = KMaxPooling(ktop_max)\n",
        "        \n",
        "        self.dropout = layers.Dropout(rate=dropout_rate)\n",
        "        self.flatten = layers.Flatten()\n",
        "        if nb_classes == 2:\n",
        "            self.dense = layers.Dense(1, activation=\"sigmoid\")\n",
        "        else:\n",
        "            self.dense = layers.Dense(nb_classes,\n",
        "                                      activation=\"softmax\")\n",
        "    \n",
        "    \n",
        "    def call(self, inputs, training):\n",
        "        x = self.embedding(inputs)\n",
        "        x = tf.expand_dims(x, axis=-1)\n",
        "        \n",
        "        x = self.widening_1(x)\n",
        "        x = self.conv_1(x)\n",
        "        x = self.pool_1(x)\n",
        "        \n",
        "        x = self.widening_2(x)\n",
        "        x = self.conv_2(x)\n",
        "        x = self.fold(x)\n",
        "        x = self.pool_2(x)\n",
        "        \n",
        "        x = self.dropout(x, training)\n",
        "        x = self.flatten(x)\n",
        "        x = self.dense(x)\n",
        "        return x"
      ],
      "execution_count": null,
      "outputs": []
    },
    {
      "cell_type": "markdown",
      "metadata": {
        "id": "92XbAZ9E1AMS",
        "colab_type": "text"
      },
      "source": [
        "# Paso 4: Aplicación"
      ]
    },
    {
      "cell_type": "markdown",
      "metadata": {
        "id": "B8cfYwHME-m0",
        "colab_type": "text"
      },
      "source": [
        "## Configuración"
      ]
    },
    {
      "cell_type": "code",
      "metadata": {
        "id": "YXwGD-pqFG4n",
        "colab_type": "code",
        "colab": {}
      },
      "source": [
        "VOCAB_SIZE = tokenizer.vocab_size #66125\n",
        "\n",
        "EMB_DIM = 60\n",
        "NB_FILTERS_1 = 6\n",
        "CONV_WIDTH_1 = 7\n",
        "KTOP_MAX = 4\n",
        "NB_FILTERS_2 = 14\n",
        "CONV_WIDTH_2 = 5\n",
        "FOLD_PATCH = 2\n",
        "NB_OF_LAYERS = 2\n",
        "DROPOUT_RATE = 0.1\n",
        "\n",
        "NB_CLASSES = 2\n",
        "\n",
        "EPOCHS=5"
      ],
      "execution_count": null,
      "outputs": []
    },
    {
      "cell_type": "markdown",
      "metadata": {
        "id": "Nddzr1kA7UHC",
        "colab_type": "text"
      },
      "source": [
        "## Entrenamiento"
      ]
    },
    {
      "cell_type": "code",
      "metadata": {
        "id": "llrQfQjnptKa",
        "colab_type": "code",
        "colab": {}
      },
      "source": [
        "Dcnn = DCNN(vocab_size=VOCAB_SIZE,\n",
        "            emb_dim=EMB_DIM,\n",
        "            nb_filters_1=NB_FILTERS_1,\n",
        "            conv_width_1=CONV_WIDTH_1,\n",
        "            ktop_max=KTOP_MAX,\n",
        "            nb_filters_2=NB_FILTERS_2,\n",
        "            conv_width_2=CONV_WIDTH_2,\n",
        "            fold_patch=FOLD_PATCH,\n",
        "            nb_of_layers=NB_OF_LAYERS,\n",
        "            dropout_rate=DROPOUT_RATE,\n",
        "            nb_classes=NB_CLASSES)"
      ],
      "execution_count": null,
      "outputs": []
    },
    {
      "cell_type": "code",
      "metadata": {
        "id": "-mHMb-nWxe50",
        "colab_type": "code",
        "colab": {}
      },
      "source": [
        "if NB_CLASSES == 2:\n",
        "    Dcnn.compile(loss=\"binary_crossentropy\",\n",
        "                 optimizer=\"adagrad\",\n",
        "                 metrics=[\"accuracy\"])\n",
        "else:\n",
        "    Dcnn.compile(loss=\"sparse_categorical_crossentropy\",\n",
        "                 optimizer=\"adagrad\",\n",
        "                 metrics=[\"sparse_categorical_accuracy\"])"
      ],
      "execution_count": null,
      "outputs": []
    },
    {
      "cell_type": "code",
      "metadata": {
        "id": "4jPBIFCFMIMu",
        "colab_type": "code",
        "colab": {}
      },
      "source": [
        "checkpoint_path = \"/content/drive/My Drive/Curso de NLP/CNN/ckpt_advanced\"\n",
        "\n",
        "ckpt = tf.train.Checkpoint(Dcnn=Dcnn)\n",
        "\n",
        "ckpt_manager = tf.train.CheckpointManager(ckpt, checkpoint_path, max_to_keep=1)\n",
        "\n",
        "if ckpt_manager.latest_checkpoint:\n",
        "    ckpt.restore(ckpt_manager.latest_checkpoint)\n",
        "    print(\"Último checkpoint restaurado!!\")\n",
        "\n",
        "class MyCustomCallback(tf.keras.callbacks.Callback):\n",
        "\n",
        "    def on_epoch_end(self, epoch, logs=None):\n",
        "        ckpt_manager.save()\n",
        "        print(\"Checkpoint guardado en {}.\".format(checkpoint_path))\n"
      ],
      "execution_count": null,
      "outputs": []
    },
    {
      "cell_type": "code",
      "metadata": {
        "id": "6N4xdGaz70_r",
        "colab_type": "code",
        "colab": {
          "base_uri": "https://localhost:8080/",
          "height": 315
        },
        "outputId": "7b2702de-033b-44fb-c648-af40c705cffb"
      },
      "source": [
        "Dcnn.fit(train_dataset,\n",
        "         epochs=EPOCHS,\n",
        "         callbacks=[MyCustomCallback()])"
      ],
      "execution_count": null,
      "outputs": [
        {
          "output_type": "stream",
          "text": [
            "Epoch 1/5\n",
            "  44067/Unknown - 2283s 52ms/step - loss: 0.6909 - accuracy: 0.5241Checkpoint guardado en /content/drive/My Drive/Curso de NLP/CNN/ckpt_advanced.\n",
            "44067/44067 [==============================] - 2284s 52ms/step - loss: 0.6909 - accuracy: 0.5241\n",
            "Epoch 2/5\n",
            "44066/44067 [============================>.] - ETA: 0s - loss: 0.6845 - accuracy: 0.5825Checkpoint guardado en /content/drive/My Drive/Curso de NLP/CNN/ckpt_advanced.\n",
            "44067/44067 [==============================] - 2304s 52ms/step - loss: 0.6845 - accuracy: 0.5825\n",
            "Epoch 3/5\n",
            "44066/44067 [============================>.] - ETA: 0s - loss: 0.6526 - accuracy: 0.6377Checkpoint guardado en /content/drive/My Drive/Curso de NLP/CNN/ckpt_advanced.\n",
            "44067/44067 [==============================] - 2272s 52ms/step - loss: 0.6526 - accuracy: 0.6377\n",
            "Epoch 4/5\n",
            "44066/44067 [============================>.] - ETA: 0s - loss: 0.6089 - accuracy: 0.6763Checkpoint guardado en /content/drive/My Drive/Curso de NLP/CNN/ckpt_advanced.\n",
            "44067/44067 [==============================] - 2269s 51ms/step - loss: 0.6089 - accuracy: 0.6763\n",
            "Epoch 5/5\n",
            "44066/44067 [============================>.] - ETA: 0s - loss: 0.5737 - accuracy: 0.7042Checkpoint guardado en /content/drive/My Drive/Curso de NLP/CNN/ckpt_advanced.\n",
            "44067/44067 [==============================] - 2270s 52ms/step - loss: 0.5737 - accuracy: 0.7042\n"
          ],
          "name": "stdout"
        },
        {
          "output_type": "execute_result",
          "data": {
            "text/plain": [
              "<tensorflow.python.keras.callbacks.History at 0x7f7e7558a710>"
            ]
          },
          "metadata": {
            "tags": []
          },
          "execution_count": 217
        }
      ]
    },
    {
      "cell_type": "markdown",
      "metadata": {
        "id": "qZcLXyUHr8Q8",
        "colab_type": "text"
      },
      "source": [
        "## Evaluación"
      ]
    },
    {
      "cell_type": "code",
      "metadata": {
        "id": "Jt2dRZWhKHbT",
        "colab_type": "code",
        "colab": {
          "base_uri": "https://localhost:8080/",
          "height": 72
        },
        "outputId": "e022e1e5-839b-4229-b3c4-497dcf4d3f38"
      },
      "source": [
        "results = Dcnn.evaluate(test_dataset)\n",
        "print(results)"
      ],
      "execution_count": null,
      "outputs": [
        {
          "output_type": "stream",
          "text": [
            "4896/4896 [==============================] - 161s 33ms/step - loss: 0.5346 - accuracy: 0.7480\n",
            "[0.5345908999443054, 0.7479830384254456]\n"
          ],
          "name": "stdout"
        }
      ]
    },
    {
      "cell_type": "code",
      "metadata": {
        "id": "xOiSi0kR0iYg",
        "colab_type": "code",
        "colab": {
          "base_uri": "https://localhost:8080/",
          "height": 55
        },
        "outputId": "9fb721e5-5c96-4cf8-fd96-809ce9ca417b"
      },
      "source": [
        "print(Dcnn(tf.expand_dims(tf.cast(tokenizer.encode(\"You should try it too!\"), dtype=tf.int32), axis=0), training=False))"
      ],
      "execution_count": null,
      "outputs": [
        {
          "output_type": "stream",
          "text": [
            "tf.Tensor([[0.87635505]], shape=(1, 1), dtype=float32)\n"
          ],
          "name": "stdout"
        }
      ]
    }
  ]
}